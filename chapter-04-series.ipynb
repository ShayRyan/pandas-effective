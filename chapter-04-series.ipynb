{
 "cells": [
  {
   "cell_type": "code",
   "execution_count": 28,
   "outputs": [],
   "source": [
    "import pandas as pd"
   ],
   "metadata": {
    "collapsed": false
   }
  },
  {
   "cell_type": "markdown",
   "source": [
    "## Series"
   ],
   "metadata": {
    "collapsed": false
   }
  },
  {
   "cell_type": "code",
   "execution_count": 29,
   "metadata": {
    "collapsed": true
   },
   "outputs": [],
   "source": [
    "songs = pd.Series ([145 , 142, 38, 13],\n",
    "                    name='counts ',\n",
    "                    index =['Paul ', 'John ', 'George ', 'Ringo '])"
   ]
  },
  {
   "cell_type": "code",
   "execution_count": 30,
   "outputs": [
    {
     "data": {
      "text/plain": "Index(['Paul ', 'John ', 'George ', 'Ringo '], dtype='object')"
     },
     "execution_count": 30,
     "metadata": {},
     "output_type": "execute_result"
    }
   ],
   "source": [
    "songs.index"
   ],
   "metadata": {
    "collapsed": false
   }
  },
  {
   "cell_type": "markdown",
   "source": [
    "## Mask"
   ],
   "metadata": {
    "collapsed": false
   }
  },
  {
   "cell_type": "code",
   "execution_count": 31,
   "outputs": [
    {
     "data": {
      "text/plain": "Paul        True\nJohn        True\nGeorge     False\nRingo      False\nName: counts , dtype: bool"
     },
     "execution_count": 31,
     "metadata": {},
     "output_type": "execute_result"
    }
   ],
   "source": [
    "mask = songs > songs.median() # boolean array\n",
    "mask"
   ],
   "metadata": {
    "collapsed": false
   }
  },
  {
   "cell_type": "code",
   "execution_count": 32,
   "outputs": [
    {
     "data": {
      "text/plain": "Paul     145\nJohn     142\nName: counts , dtype: int64"
     },
     "execution_count": 32,
     "metadata": {},
     "output_type": "execute_result"
    }
   ],
   "source": [
    "songs[mask]"
   ],
   "metadata": {
    "collapsed": false
   }
  },
  {
   "cell_type": "markdown",
   "source": [
    "# Categorical Data"
   ],
   "metadata": {
    "collapsed": false
   }
  },
  {
   "cell_type": "code",
   "execution_count": 33,
   "outputs": [
    {
     "data": {
      "text/plain": "0       m\n1       l\n2      xs\n3     xxl\n4       s\n5      xl\n6      fb\n7    xxxl\ndtype: category\nCategories (8, object): ['fb', 'l', 'm', 's', 'xl', 'xs', 'xxl', 'xxxl']"
     },
     "execution_count": 33,
     "metadata": {},
     "output_type": "execute_result"
    }
   ],
   "source": [
    "s1 = pd.Series(['m', 'l', 'xs', 'xxl', 's', 'xl', 'fb', 'xxxl'], dtype='category')\n",
    "s1"
   ],
   "metadata": {
    "collapsed": false
   }
  },
  {
   "cell_type": "code",
   "execution_count": 34,
   "outputs": [
    {
     "data": {
      "text/plain": "False"
     },
     "execution_count": 34,
     "metadata": {},
     "output_type": "execute_result"
    }
   ],
   "source": [
    "# inspect the .cat attribute to see if the categorical data is ordered\n",
    "s1.cat.ordered"
   ],
   "metadata": {
    "collapsed": false
   }
  },
  {
   "cell_type": "code",
   "execution_count": 35,
   "outputs": [
    {
     "data": {
      "text/plain": "0      m\n1      l\n2    NaN\n3    NaN\n4      s\n5     xl\n6    NaN\n7    NaN\ndtype: category\nCategories (4, object): ['s' < 'm' < 'l' < 'xl']"
     },
     "execution_count": 35,
     "metadata": {},
     "output_type": "execute_result"
    }
   ],
   "source": [
    "# To convert a non-categorical series to an ordered category,\n",
    "# create a type with the CategoricalDtype constructor and the appropriate parameters.\n",
    "# Then pass this type into the .astype method:\n",
    "size_type = pd.api.types.CategoricalDtype(categories=['s', 'm', 'l', 'xl'], ordered=True)\n",
    "s2 = s1.astype(size_type)\n",
    "s2"
   ],
   "metadata": {
    "collapsed": false
   }
  },
  {
   "cell_type": "code",
   "execution_count": 36,
   "outputs": [
    {
     "data": {
      "text/plain": "0     True\n1     True\n2    False\n3    False\n4    False\n5     True\n6    False\n7    False\ndtype: bool"
     },
     "execution_count": 36,
     "metadata": {},
     "output_type": "execute_result"
    }
   ],
   "source": [
    "# In this case, we limited the categories to just 's', 'm', 'l' and 'xl'.\n",
    "# If the data has values that were not in those categories, they are replaced by NaN.\n",
    "s2 > 's'"
   ],
   "metadata": {
    "collapsed": false
   }
  },
  {
   "cell_type": "code",
   "execution_count": 40,
   "outputs": [],
   "source": [
    "# We can also add ordering information to an existing series with categorical data.\n",
    "# But you must ensure that you specify all members of the category,\n",
    "# otherwise pandas will throw a ValueError:\n",
    "s3 = s1.cat.reorder_categories(['xs', 's', 'm', 'l', 'xl', 'xxl', 'xxxl', 'fb'], ordered=True)"
   ],
   "metadata": {
    "collapsed": false
   }
  },
  {
   "cell_type": "code",
   "execution_count": 41,
   "outputs": [
    {
     "data": {
      "text/plain": "0    False\n1     True\n2    False\n3     True\n4    False\n5     True\n6     True\n7     True\ndtype: bool"
     },
     "execution_count": 41,
     "metadata": {},
     "output_type": "execute_result"
    }
   ],
   "source": [
    "s3 > 'm'"
   ],
   "metadata": {
    "collapsed": false
   }
  },
  {
   "cell_type": "code",
   "execution_count": 43,
   "outputs": [
    {
     "data": {
      "text/plain": "0       M\n1       L\n2      XS\n3     XXL\n4       S\n5      XL\n6      FB\n7    XXXL\ndtype: object"
     },
     "execution_count": 43,
     "metadata": {},
     "output_type": "execute_result"
    }
   ],
   "source": [
    "# String and datetime series have a str and dt attribute that allow us to perform common\n",
    "# operations specific to that type. If we convert these types to categorical types, we can still\n",
    "# use the str or dt attributes on them:\n",
    "s3.str.upper()"
   ],
   "metadata": {
    "collapsed": false
   }
  },
  {
   "cell_type": "code",
   "execution_count": 46,
   "outputs": [
    {
     "data": {
      "text/plain": "0    15\n1    16\n2    12\n3    13\n4    11\n5    12\n6    13\ndtype: int64"
     },
     "execution_count": 46,
     "metadata": {},
     "output_type": "execute_result"
    }
   ],
   "source": [
    "# Ex. 1\n",
    "# Max temperatures for next 7 days\n",
    "values = [15, 16, 12, 13, 11, 12, 13]\n",
    "temps = pd.Series(values)\n",
    "temps"
   ],
   "metadata": {
    "collapsed": false
   }
  },
  {
   "cell_type": "code",
   "execution_count": 47,
   "outputs": [
    {
     "data": {
      "text/plain": "13.142857142857142"
     },
     "execution_count": 47,
     "metadata": {},
     "output_type": "execute_result"
    }
   ],
   "source": [
    "temps.mean()"
   ],
   "metadata": {
    "collapsed": false
   }
  },
  {
   "cell_type": "code",
   "execution_count": 49,
   "outputs": [
    {
     "data": {
      "text/plain": "0    15\n1    16\ndtype: int64"
     },
     "execution_count": 49,
     "metadata": {},
     "output_type": "execute_result"
    }
   ],
   "source": [
    "mask = temps > temps.mean()\n",
    "temps[mask]"
   ],
   "metadata": {
    "collapsed": false
   }
  },
  {
   "cell_type": "code",
   "execution_count": 52,
   "outputs": [
    {
     "data": {
      "text/plain": "0          Gold\n1      Platinum\n2    Aquamarine\n3          Teal\n4        Indigo\ndtype: category\nCategories (5, object): ['Aquamarine', 'Gold', 'Indigo', 'Platinum', 'Teal']"
     },
     "execution_count": 52,
     "metadata": {},
     "output_type": "execute_result"
    }
   ],
   "source": [
    "# Ex. 2 Create a series with your favorite colors. Use a categorical type\n",
    "my_fav_colors = pd.Series(['Gold', 'Platinum', 'Aquamarine', 'Teal', 'Indigo'], dtype='category')\n",
    "my_fav_colors"
   ],
   "metadata": {
    "collapsed": false
   }
  }
 ],
 "metadata": {
  "kernelspec": {
   "display_name": "Python 3",
   "language": "python",
   "name": "python3"
  },
  "language_info": {
   "codemirror_mode": {
    "name": "ipython",
    "version": 2
   },
   "file_extension": ".py",
   "mimetype": "text/x-python",
   "name": "python",
   "nbconvert_exporter": "python",
   "pygments_lexer": "ipython2",
   "version": "2.7.6"
  }
 },
 "nbformat": 4,
 "nbformat_minor": 0
}
